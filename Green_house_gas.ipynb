{
 "cells": [
  {
   "cell_type": "code",
   "execution_count": 10,
   "id": "5a28ca0f-7181-4a8c-b30f-f0f3dabc27c2",
   "metadata": {},
   "outputs": [],
   "source": [
    "# Importing the required libraries\n",
    "import pandas as pd"
   ]
  },
  {
   "cell_type": "code",
   "execution_count": 11,
   "id": "05a13284-bf60-4c50-b9b9-9d3f93ff5f20",
   "metadata": {},
   "outputs": [
    {
     "data": {
      "text/html": [
       "<div>\n",
       "<style scoped>\n",
       "    .dataframe tbody tr th:only-of-type {\n",
       "        vertical-align: middle;\n",
       "    }\n",
       "\n",
       "    .dataframe tbody tr th {\n",
       "        vertical-align: top;\n",
       "    }\n",
       "\n",
       "    .dataframe thead th {\n",
       "        text-align: right;\n",
       "    }\n",
       "</style>\n",
       "<table border=\"1\" class=\"dataframe\">\n",
       "  <thead>\n",
       "    <tr style=\"text-align: right;\">\n",
       "      <th></th>\n",
       "      <th>Industry Code</th>\n",
       "      <th>Industry Name</th>\n",
       "      <th>Substance</th>\n",
       "      <th>Unit</th>\n",
       "      <th>Supply Chain Emission Factors without Margins</th>\n",
       "      <th>Margins of Supply Chain Emission Factors</th>\n",
       "      <th>Supply Chain Emission Factors with Margins</th>\n",
       "      <th>Unnamed: 7</th>\n",
       "      <th>DQ ReliabilityScore of Factors without Margins</th>\n",
       "      <th>DQ TemporalCorrelation of Factors without Margins</th>\n",
       "      <th>DQ GeographicalCorrelation of Factors without Margins</th>\n",
       "      <th>DQ TechnologicalCorrelation of Factors without Margins</th>\n",
       "      <th>DQ DataCollection of Factors without Margins</th>\n",
       "    </tr>\n",
       "  </thead>\n",
       "  <tbody>\n",
       "    <tr>\n",
       "      <th>0</th>\n",
       "      <td>111CA</td>\n",
       "      <td>Farms</td>\n",
       "      <td>carbon dioxide</td>\n",
       "      <td>kg/2018 USD, purchaser price</td>\n",
       "      <td>Supply Chain Emission Factors without Margins</td>\n",
       "      <td>0.041</td>\n",
       "      <td>0.465</td>\n",
       "      <td>NaN</td>\n",
       "      <td>4</td>\n",
       "      <td>2</td>\n",
       "      <td>1</td>\n",
       "      <td>4</td>\n",
       "      <td>1</td>\n",
       "    </tr>\n",
       "    <tr>\n",
       "      <th>1</th>\n",
       "      <td>111CA</td>\n",
       "      <td>Farms</td>\n",
       "      <td>methane</td>\n",
       "      <td>kg/2018 USD, purchaser price</td>\n",
       "      <td>0.023</td>\n",
       "      <td>0.000</td>\n",
       "      <td>0.023</td>\n",
       "      <td>NaN</td>\n",
       "      <td>3</td>\n",
       "      <td>2</td>\n",
       "      <td>1</td>\n",
       "      <td>1</td>\n",
       "      <td>1</td>\n",
       "    </tr>\n",
       "    <tr>\n",
       "      <th>2</th>\n",
       "      <td>111CA</td>\n",
       "      <td>Farms</td>\n",
       "      <td>nitrous oxide</td>\n",
       "      <td>kg/2018 USD, purchaser price</td>\n",
       "      <td>0.002</td>\n",
       "      <td>0.000</td>\n",
       "      <td>0.002</td>\n",
       "      <td>NaN</td>\n",
       "      <td>4</td>\n",
       "      <td>2</td>\n",
       "      <td>1</td>\n",
       "      <td>4</td>\n",
       "      <td>1</td>\n",
       "    </tr>\n",
       "    <tr>\n",
       "      <th>3</th>\n",
       "      <td>111CA</td>\n",
       "      <td>Farms</td>\n",
       "      <td>other GHGs</td>\n",
       "      <td>kg CO2e/2018 USD, purchaser price</td>\n",
       "      <td>0.004</td>\n",
       "      <td>0.000</td>\n",
       "      <td>0.004</td>\n",
       "      <td>NaN</td>\n",
       "      <td>3</td>\n",
       "      <td>2</td>\n",
       "      <td>1</td>\n",
       "      <td>4</td>\n",
       "      <td>1</td>\n",
       "    </tr>\n",
       "    <tr>\n",
       "      <th>4</th>\n",
       "      <td>113FF</td>\n",
       "      <td>Forestry, fishing, and related activities</td>\n",
       "      <td>carbon dioxide</td>\n",
       "      <td>kg/2018 USD, purchaser price</td>\n",
       "      <td>0.184</td>\n",
       "      <td>0.017</td>\n",
       "      <td>0.201</td>\n",
       "      <td>NaN</td>\n",
       "      <td>4</td>\n",
       "      <td>2</td>\n",
       "      <td>1</td>\n",
       "      <td>4</td>\n",
       "      <td>1</td>\n",
       "    </tr>\n",
       "  </tbody>\n",
       "</table>\n",
       "</div>"
      ],
      "text/plain": [
       "  Industry Code                              Industry Name       Substance  \\\n",
       "0         111CA                                      Farms  carbon dioxide   \n",
       "1         111CA                                      Farms         methane   \n",
       "2         111CA                                      Farms   nitrous oxide   \n",
       "3         111CA                                      Farms      other GHGs   \n",
       "4         113FF  Forestry, fishing, and related activities  carbon dioxide   \n",
       "\n",
       "                                Unit  \\\n",
       "0       kg/2018 USD, purchaser price   \n",
       "1       kg/2018 USD, purchaser price   \n",
       "2       kg/2018 USD, purchaser price   \n",
       "3  kg CO2e/2018 USD, purchaser price   \n",
       "4       kg/2018 USD, purchaser price   \n",
       "\n",
       "   Supply Chain Emission Factors without Margins  \\\n",
       "0  Supply Chain Emission Factors without Margins   \n",
       "1                                          0.023   \n",
       "2                                          0.002   \n",
       "3                                          0.004   \n",
       "4                                          0.184   \n",
       "\n",
       "   Margins of Supply Chain Emission Factors  \\\n",
       "0                                     0.041   \n",
       "1                                     0.000   \n",
       "2                                     0.000   \n",
       "3                                     0.000   \n",
       "4                                     0.017   \n",
       "\n",
       "   Supply Chain Emission Factors with Margins  Unnamed: 7  \\\n",
       "0                                       0.465         NaN   \n",
       "1                                       0.023         NaN   \n",
       "2                                       0.002         NaN   \n",
       "3                                       0.004         NaN   \n",
       "4                                       0.201         NaN   \n",
       "\n",
       "   DQ ReliabilityScore of Factors without Margins  \\\n",
       "0                                               4   \n",
       "1                                               3   \n",
       "2                                               4   \n",
       "3                                               3   \n",
       "4                                               4   \n",
       "\n",
       "   DQ TemporalCorrelation of Factors without Margins  \\\n",
       "0                                                  2   \n",
       "1                                                  2   \n",
       "2                                                  2   \n",
       "3                                                  2   \n",
       "4                                                  2   \n",
       "\n",
       "   DQ GeographicalCorrelation of Factors without Margins  \\\n",
       "0                                                  1       \n",
       "1                                                  1       \n",
       "2                                                  1       \n",
       "3                                                  1       \n",
       "4                                                  1       \n",
       "\n",
       "   DQ TechnologicalCorrelation of Factors without Margins  \\\n",
       "0                                                  4        \n",
       "1                                                  1        \n",
       "2                                                  4        \n",
       "3                                                  4        \n",
       "4                                                  4        \n",
       "\n",
       "   DQ DataCollection of Factors without Margins  \n",
       "0                                             1  \n",
       "1                                             1  \n",
       "2                                             1  \n",
       "3                                             1  \n",
       "4                                             1  "
      ]
     },
     "execution_count": 11,
     "metadata": {},
     "output_type": "execute_result"
    }
   ],
   "source": [
    "# Importing the dataset\n",
    "df=pd.read_csv('SupplyChainEmissionFactorsforUSIndustriesCommodities(2015_Summary_Industry).csv')\n",
    "df.head()"
   ]
  },
  {
   "cell_type": "code",
   "execution_count": 12,
   "id": "4395dcd4-2e1f-4835-858f-35a72205f99e",
   "metadata": {},
   "outputs": [
    {
     "name": "stdout",
     "output_type": "stream",
     "text": [
      "<class 'pandas.core.frame.DataFrame'>\n",
      "RangeIndex: 264 entries, 0 to 263\n",
      "Data columns (total 13 columns):\n",
      " #   Column                                                  Non-Null Count  Dtype  \n",
      "---  ------                                                  --------------  -----  \n",
      " 0   Industry Code                                           264 non-null    object \n",
      " 1   Industry Name                                           264 non-null    object \n",
      " 2   Substance                                               264 non-null    object \n",
      " 3   Unit                                                    264 non-null    object \n",
      " 4   Supply Chain Emission Factors without Margins           264 non-null    object \n",
      " 5   Margins of Supply Chain Emission Factors                264 non-null    float64\n",
      " 6   Supply Chain Emission Factors with Margins              264 non-null    float64\n",
      " 7   Unnamed: 7                                              0 non-null      float64\n",
      " 8   DQ ReliabilityScore of Factors without Margins          264 non-null    int64  \n",
      " 9   DQ TemporalCorrelation of Factors without Margins       264 non-null    int64  \n",
      " 10  DQ GeographicalCorrelation of Factors without Margins   264 non-null    int64  \n",
      " 11  DQ TechnologicalCorrelation of Factors without Margins  264 non-null    int64  \n",
      " 12  DQ DataCollection of Factors without Margins            264 non-null    int64  \n",
      "dtypes: float64(3), int64(5), object(5)\n",
      "memory usage: 26.9+ KB\n"
     ]
    }
   ],
   "source": [
    "df.info()"
   ]
  },
  {
   "cell_type": "code",
   "execution_count": 13,
   "id": "551855d6-f183-4de3-86cf-24ed4367438c",
   "metadata": {},
   "outputs": [
    {
     "data": {
      "text/plain": [
       "Industry Code                                               0\n",
       "Industry Name                                               0\n",
       "Substance                                                   0\n",
       "Unit                                                        0\n",
       "Supply Chain Emission Factors without Margins               0\n",
       "Margins of Supply Chain Emission Factors                    0\n",
       "Supply Chain Emission Factors with Margins                  0\n",
       "Unnamed: 7                                                264\n",
       "DQ ReliabilityScore of Factors without Margins              0\n",
       "DQ TemporalCorrelation of Factors without Margins           0\n",
       "DQ GeographicalCorrelation of Factors without Margins       0\n",
       "DQ TechnologicalCorrelation of Factors without Margins      0\n",
       "DQ DataCollection of Factors without Margins                0\n",
       "dtype: int64"
      ]
     },
     "execution_count": 13,
     "metadata": {},
     "output_type": "execute_result"
    }
   ],
   "source": [
    "# Finding if there are any null values\n",
    "df.isnull().sum()"
   ]
  },
  {
   "cell_type": "code",
   "execution_count": 14,
   "id": "39a7c866-3035-4cb2-8619-e429f372b5c5",
   "metadata": {},
   "outputs": [
    {
     "data": {
      "text/plain": [
       "0"
      ]
     },
     "execution_count": 14,
     "metadata": {},
     "output_type": "execute_result"
    }
   ],
   "source": [
    "# Finding if there are any duplicate values\n",
    "df.duplicated().sum()"
   ]
  },
  {
   "cell_type": "code",
   "execution_count": 15,
   "id": "867ec601-a468-42f7-b923-bbff8881ebcd",
   "metadata": {},
   "outputs": [
    {
     "name": "stdout",
     "output_type": "stream",
     "text": [
      "Series([], Name: count, dtype: int64)\n"
     ]
    }
   ],
   "source": [
    "print(df['Unnamed: 7'].value_counts())"
   ]
  },
  {
   "cell_type": "markdown",
   "id": "e094a45f-d995-4504-a68a-228ab9a1cffd",
   "metadata": {},
   "source": [
    "#### This indicates that all the values in the unnamed row are null"
   ]
  },
  {
   "cell_type": "code",
   "execution_count": 16,
   "id": "3e9b9ed4-9166-45e5-92a3-9aa2e48a7b11",
   "metadata": {},
   "outputs": [],
   "source": [
    "# Dropping the null values\n",
    "df=df.dropna()"
   ]
  },
  {
   "cell_type": "code",
   "execution_count": 17,
   "id": "97b80c08-93cd-4620-b7fb-a6e60969b906",
   "metadata": {},
   "outputs": [],
   "source": [
    "# Dropping the column\n",
    "df.drop(columns={'Unnamed: 7'}, inplace=True)"
   ]
  },
  {
   "cell_type": "code",
   "execution_count": 18,
   "id": "7a0b3dfb-b33f-4816-b74d-f3331f5b8a58",
   "metadata": {},
   "outputs": [
    {
     "data": {
      "text/plain": [
       "Index(['Industry Code', 'Industry Name', 'Substance', 'Unit',\n",
       "       'Supply Chain Emission Factors without Margins',\n",
       "       'Margins of Supply Chain Emission Factors',\n",
       "       'Supply Chain Emission Factors with Margins',\n",
       "       'DQ ReliabilityScore of Factors without Margins',\n",
       "       'DQ TemporalCorrelation of Factors without Margins',\n",
       "       'DQ GeographicalCorrelation of Factors without Margins',\n",
       "       'DQ TechnologicalCorrelation of Factors without Margins',\n",
       "       'DQ DataCollection of Factors without Margins'],\n",
       "      dtype='object')"
      ]
     },
     "execution_count": 18,
     "metadata": {},
     "output_type": "execute_result"
    }
   ],
   "source": [
    "df.columns"
   ]
  },
  {
   "cell_type": "code",
   "execution_count": null,
   "id": "92227d0e-c9bd-4a72-9f29-4e8ef396ae7c",
   "metadata": {},
   "outputs": [],
   "source": []
  }
 ],
 "metadata": {
  "kernelspec": {
   "display_name": "Python (myenv1)",
   "language": "python",
   "name": "myenv1"
  },
  "language_info": {
   "codemirror_mode": {
    "name": "ipython",
    "version": 3
   },
   "file_extension": ".py",
   "mimetype": "text/x-python",
   "name": "python",
   "nbconvert_exporter": "python",
   "pygments_lexer": "ipython3",
   "version": "3.9.20"
  }
 },
 "nbformat": 4,
 "nbformat_minor": 5
}
